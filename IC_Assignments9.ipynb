{
 "cells": [
  {
   "cell_type": "markdown",
   "id": "52c7618f",
   "metadata": {},
   "source": [
    "Creating a program/function that can answer the followiung questions from Ch. 7 in handbook of quantitative ecology:\n",
    "- Program that takes input and answers following questions:\n",
    "    - Probability we will find 2 eggs in 1 nest we check?\n",
    "    - Probability team will find 3 nests in a row with 1 egg?\n",
    "    - Average number of eggs per nest? \n",
    "\n",
    "- Finally, be able to adjust the input parameters:\n",
    "    - Such as how any nests with 1/2/3 eggs?\n",
    "    - How many nests in a row with 1 egg?\n",
    "\n"
   ]
  },
  {
   "cell_type": "code",
   "execution_count": 5,
   "id": "0220bea0",
   "metadata": {},
   "outputs": [
    {
     "name": "stdout",
     "output_type": "stream",
     "text": [
      "============================================================\n",
      "        Eagle Nest Probability and Statistics Report         \n",
      "============================================================\n",
      "Total nests observed: 20\n",
      "Probability (2 or more eggs in first nest): 0.8000\n",
      "Probability (3 nests in a row with 1 egg):   0.0080\n",
      "Average number of eggs per nest:            1.90\n",
      "============================================================\n",
      "\n"
     ]
    }
   ],
   "source": [
    "# Eagle Nest Probability Analysis\n",
    "# This program calculates:\n",
    "#   1. Probability that the first nest has two or more eggs\n",
    "#   2. Probability that three nests in a row each have one egg\n",
    "#   3. Average number of eggs per nest\n",
    "\n",
    "# Input parameters (can be adjusted):\n",
    "#   - nests_1: number of nests with 1 egg\n",
    "#   - nests_2: number of nests with 2 eggs\n",
    "#   - nests_3: number of nests with 3 eggs\n",
    "#   - nests_in_a_row: how many consecutive nests to check for 1 egg\n",
    "\n",
    "def nest_statistics(nests_1, nests_2, nests_3, nests_in_a_row=3):\n",
    "    # Calculate totals and probabilities\n",
    "    total_nests = nests_1 + nests_2 + nests_3\n",
    "\n",
    "    p1 = nests_1 / total_nests\n",
    "    p2 = nests_2 / total_nests\n",
    "    p3 = nests_3 / total_nests\n",
    "\n",
    "    # 1. Probability of finding 2 or more eggs in the first nest\n",
    "    prob_two_or_more = p2 + p3\n",
    "\n",
    "    # 2. Probability of finding n nests in a row with 1 egg each\n",
    "    prob_row_one_egg = p1 ** nests_in_a_row\n",
    "\n",
    "    # 3. Average number of eggs per nest\n",
    "    avg_eggs_per_nest = (1 * nests_1 + 2 * nests_2 + 3 * nests_3) / total_nests\n",
    "\n",
    "    # Display results\n",
    "    print(\"============================================================\")\n",
    "    print(\"        Eagle Nest Probability and Statistics Report         \")\n",
    "    print(\"============================================================\")\n",
    "    print(f\"Total nests observed: {total_nests}\")\n",
    "    print(f\"Probability (2 or more eggs in first nest): {prob_two_or_more:.4f}\")\n",
    "    print(f\"Probability ({nests_in_a_row} nests in a row with 1 egg):   {prob_row_one_egg:.4f}\")\n",
    "    print(f\"Average number of eggs per nest:            {avg_eggs_per_nest:.2f}\")\n",
    "    print(\"============================================================\\n\")\n",
    "\n",
    "    # Return results (optional)\n",
    "    return {\n",
    "        \"P(≥2 eggs)\": prob_two_or_more,\n",
    "        f\"P({nests_in_a_row} in a row with 1 egg)\": prob_row_one_egg,\n",
    "        \"Average eggs\": avg_eggs_per_nest\n",
    "    }\n",
    "\n",
    "\n",
    "# ============================================================\n",
    "# Main program: Example using data from the published study\n",
    "# ============================================================\n",
    "if __name__ == \"__main__\":\n",
    "    # Study data:\n",
    "    nests_1 = 4   # Nests with 1 egg\n",
    "    nests_2 = 14  # Nests with 2 eggs\n",
    "    nests_3 = 2   # Nests with 3 eggs\n",
    "\n",
    "    # Number of nests in a row to check for 1-egg nests\n",
    "    nests_in_a_row = 3\n",
    "\n",
    "    # Run analysis\n",
    "    nest_statistics(nests_1, nests_2, nests_3, nests_in_a_row)\n"
   ]
  }
 ],
 "metadata": {
  "kernelspec": {
   "display_name": "IC_Assignments",
   "language": "python",
   "name": "python3"
  },
  "language_info": {
   "codemirror_mode": {
    "name": "ipython",
    "version": 3
   },
   "file_extension": ".py",
   "mimetype": "text/x-python",
   "name": "python",
   "nbconvert_exporter": "python",
   "pygments_lexer": "ipython3",
   "version": "3.13.5"
  }
 },
 "nbformat": 4,
 "nbformat_minor": 5
}
