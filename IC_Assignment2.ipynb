{
 "cells": [
  {
   "cell_type": "markdown",
   "id": "68532966",
   "metadata": {},
   "source": [
    "Assignment 2 \n",
    "Chapter 2 of Q Ecology Handbook \n",
    "- exponential notation \n",
    "- Calculating how quickly duckweed will cover a pond\n",
    "\n",
    "- this is an exponential equation, although between each time period it is difference equation\n",
    "\n",
    "Python code: \n",
    "def N_exponential_growth(N_0, p, time):\n",
    "    N_Values = [N_0]\n",
    "    current_N = N_0\n",
    "    for t in range(time:\n",
    "        current_N = current_N + p * current_N \n",
    "        #Round to 3 decimal places\n",
    "        N_Values.append(current_N)\n",
    "    return N_Values\n",
    "\n",
    "    #Run the function with 40 days and n = 0.4 with an initial population of 0.01\n",
    "    result = N_exp(0.01, 0.4, 35) \n",
    "    print(result) \n",
    "    \n",
    "\n"
   ]
  },
  {
   "cell_type": "code",
   "execution_count": 1,
   "id": "38d16792",
   "metadata": {},
   "outputs": [],
   "source": [
    "def N_exponential_growth(N_0, p, time):\n",
    "    N_Values = [N_0]\n",
    "    current_N = N_0\n",
    "    for t in range(time):\n",
    "        current_N = current_N + p * current_N \n",
    "        N_Values.append(current_N)\n",
    "    return N_Values"
   ]
  },
  {
   "cell_type": "code",
   "execution_count": null,
   "id": "c3dc2c1e",
   "metadata": {},
   "outputs": [],
   "source": []
  }
 ],
 "metadata": {
  "kernelspec": {
   "display_name": "IC_Assignments",
   "language": "python",
   "name": "python3"
  },
  "language_info": {
   "codemirror_mode": {
    "name": "ipython",
    "version": 3
   },
   "file_extension": ".py",
   "mimetype": "text/x-python",
   "name": "python",
   "nbconvert_exporter": "python",
   "pygments_lexer": "ipython3",
   "version": "3.13.5"
  }
 },
 "nbformat": 4,
 "nbformat_minor": 5
}
