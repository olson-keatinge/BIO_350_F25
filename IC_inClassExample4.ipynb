{
 "cells": [
  {
   "cell_type": "code",
   "execution_count": null,
   "id": "4d0afd89",
   "metadata": {},
   "outputs": [],
   "source": [
    "import numpy as np\n",
    "from scipy.integrate import odeint\n",
    "\n",
    "# Install necessary Python packages (uncomment if running in a notebook)\n",
    "# !pip install scipy matplotlib\n",
    "\n",
    "import matplotlib.pyplot as plt\n"
   ]
  }
 ],
 "metadata": {
  "kernelspec": {
   "display_name": "IC_Assignments",
   "language": "python",
   "name": "python3"
  },
  "language_info": {
   "name": "python",
   "version": "3.13.5"
  }
 },
 "nbformat": 4,
 "nbformat_minor": 5
}
