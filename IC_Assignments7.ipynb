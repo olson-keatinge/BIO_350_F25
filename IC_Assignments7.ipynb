{
 "cells": [
  {
   "cell_type": "markdown",
   "id": "31d35006",
   "metadata": {},
   "source": [
    "Ch 3: Structured population models (introduction to quantitative ecology text book)\n",
    "- matrix models \n",
    "- Age structured or stage structured - 3 stages and 5 ages - ask chatgpt for real world example of 5 ages and one offspring per mature individual - 3 years until maturity "
   ]
  },
  {
   "cell_type": "code",
   "execution_count": null,
   "id": "441e6042",
   "metadata": {},
   "outputs": [],
   "source": [
    "#Creating a structured population model with ages. This species has 5 years of life expectancy and matures after 3 years. Mature female individuals will produce 1 offspring each year.\n",
    "# The proportion that survive be considered: S\n",
    "# Let the population vector be considered over 5 age classes: N1, N2, N3, N4, N5 for years 1 to 5 respectively. At year 3 and beyond, individuals reproduce.\n"
   ]
  },
  {
   "cell_type": "code",
   "execution_count": null,
   "id": "ed6de323",
   "metadata": {},
   "outputs": [
    {
     "ename": "NameError",
     "evalue": "name 'F3' is not defined",
     "output_type": "error",
     "traceback": [
      "\u001b[31m---------------------------------------------------------------------------\u001b[39m",
      "\u001b[31mNameError\u001b[39m                                 Traceback (most recent call last)",
      "\u001b[36mCell\u001b[39m\u001b[36m \u001b[39m\u001b[32mIn[12]\u001b[39m\u001b[32m, line 14\u001b[39m\n\u001b[32m     11\u001b[39m     Nt = np.array([N1, N2, N3, N4, N5])\n\u001b[32m     12\u001b[39m \u001b[38;5;66;03m#matrix A for N1, N2, N3, N4, N5 respectively\u001b[39;00m\n\u001b[32m     13\u001b[39m A = np.array([\n\u001b[32m---> \u001b[39m\u001b[32m14\u001b[39m     [\u001b[32m0\u001b[39m, \u001b[32m0\u001b[39m, \u001b[43mF3\u001b[49m, F4, F5],\n\u001b[32m     15\u001b[39m     [S1, \u001b[32m0\u001b[39m, \u001b[32m0\u001b[39m, \u001b[32m0\u001b[39m, \u001b[32m0\u001b[39m],\n\u001b[32m     16\u001b[39m     [\u001b[32m0\u001b[39m, S2, \u001b[32m0\u001b[39m, \u001b[32m0\u001b[39m, \u001b[32m0\u001b[39m],\n\u001b[32m     17\u001b[39m     [\u001b[32m0\u001b[39m, \u001b[32m0\u001b[39m, S3, \u001b[32m0\u001b[39m, \u001b[32m0\u001b[39m],\n\u001b[32m     18\u001b[39m     [\u001b[32m0\u001b[39m, \u001b[32m0\u001b[39m, \u001b[32m0\u001b[39m, S4, \u001b[32m0\u001b[39m],\n\u001b[32m     19\u001b[39m     ])\n\u001b[32m     21\u001b[39m \u001b[38;5;66;03m# Define fertility rates\u001b[39;00m\n\u001b[32m     22\u001b[39m F3 = \u001b[32m1.5\u001b[39m \u001b[38;5;66;03m# Fertility rate for age 3\u001b[39;00m\n",
      "\u001b[31mNameError\u001b[39m: name 'F3' is not defined"
     ]
    }
   ],
   "source": [
    "# Creating age based structured population model \n",
    "import numpy as np\n",
    "\n",
    "def population(Nt, S, F, t):\n",
    "# Nt: initial population vector [N1, N2, N3, N4, N5]\n",
    "# t: time steps\n",
    "# Nt = [N1, N2, N3, N4, N5]\n",
    "\n",
    "#matrix model for Nt+1 = A * Nt \n",
    "    N1 = Nt[0]\n",
    "    Nt = np.array([N1, N2, N3, N4, N5])\n",
    "#matrix A for N1, N2, N3, N4, N5 respectively\n",
    "A = np.array([\n",
    "    [0, 0, F3, F4, F5],\n",
    "    [S1, 0, 0, 0, 0],\n",
    "    [0, S2, 0, 0, 0],\n",
    "    [0, 0, S3, 0, 0],\n",
    "    [0, 0, 0, S4, 0],\n",
    "    ])\n",
    "\n",
    "# Define fertility rates\n",
    "F3 = 1.5 # Fertility rate for age 3\n",
    "F4 = 1.5 # Fertility rate for age 4\n",
    "F5 = 1.5 # Fertility rate for age 5\n",
    "\n",
    "\n",
    "# Define survival rates\n",
    "S1 = 0.8  # Probability of surviving from age 1 to 2\n",
    "S2 = 0.85 # Probability of surviving from age 2 to 3\n",
    "S3 = 0.9  # Probability of surviving from age 3 to 4\n",
    "S4 = 0.7  # Probability of surviving from age 4 to 5\n",
    "\n",
    "# Construct matrix A\n",
    "A = np.array([\n",
    "    [0, 0, F3, F4, F5],\n",
    "    [S1, 0, 0, 0, 0],\n",
    "    [0, S2, 0, 0, 0],\n",
    "    [0, 0, S3, 0, 0],\n",
    "    [0, 0, 0, S4, 0],\n",
    "])\n",
    "\n",
    "# Initial population vector: [year 1, year 2, year 3, year 4, year 5]\n",
    "population = np.array([initial_first_year, initial_second_year, initial_third_year, initial_fourth_year, initial_fifth_year])\n",
    "\n",
    "\n",
    "# Lists to store population data over time\n",
    "first_year_population = [population[0]]\n",
    "second_year_population = [population[1]]\n",
    "third_year_population = [population[2]]\n",
    "fourth_year_population = [population[3]]\n",
    "fifth_year_population = [population[4]]\n",
    "total_population = [np.sum(population)]\n",
    "\n",
    "    # Simulate population changes over the specified number of years\n",
    "for _ in range(years):\n",
    "    population = np.dot(A, population)\n",
    "    first_year_population.append(population[0])\n",
    "    second_year_population.append(population[1])\n",
    "    third_year_population.append(population[2])\n",
    "    fourth_year_population.append(population[3])\n",
    "    fifth_year_population.append(population[4])\n",
    "    total_population.append(np.sum(population))\n",
    "\n",
    "    return first_year_population, second_year_population, third_year_population, fourth_year_population, fifth_year_population, total_population"
   ]
  },
  {
   "cell_type": "code",
   "execution_count": null,
   "id": "1e0e82ab",
   "metadata": {},
   "outputs": [
    {
     "ename": "IndentationError",
     "evalue": "unexpected indent (1195909551.py, line 57)",
     "output_type": "error",
     "traceback": [
      "  \u001b[36mCell\u001b[39m\u001b[36m \u001b[39m\u001b[32mIn[43]\u001b[39m\u001b[32m, line 57\u001b[39m\n\u001b[31m    \u001b[39m\u001b[31mfor _ in range(years):\u001b[39m\n    ^\n\u001b[31mIndentationError\u001b[39m\u001b[31m:\u001b[39m unexpected indent\n"
     ]
    }
   ],
   "source": [
    "#Creating age based structured population model based off red fox example. \n",
    "# # ------------------------------------------------------\n",
    "# Age-Structured Population Model: Red Fox (Vulpes vulpes)\n",
    "#\n",
    "# Age Classes:\n",
    "#   N1 - Pups (0–1 year)\n",
    "#   N2 - Yearlings (1–2 years)\n",
    "#   N3 - Young Adults (2–3 years) – start reproducing\n",
    "#   N4 - Adults (3–4 years)\n",
    "#   N5 - Older Adults (4–5+ years)\n",
    "#\n",
    "# Notes:\n",
    "# - Red foxes typically begin reproducing at age 2 (N3)\n",
    "# - Each mature individual produces ~1 surviving offspring per year\n",
    "# - Survival and fertility vary by age class\n",
    "# ------------------------------------------------------\n",
    "\n",
    "def fox_population(years, initial_first_year, initial_second_year, initial_third_year, initial_fourth_year, initial_fifth_year, S, F):\n",
    "    S1, S2, S3, S4 = S #Survival rate per year \n",
    "    F3, F4, F5 = F #Fecundity rates for age classes 3, 4, 5 after stage of maturity \n",
    "# Initial population: 10 pups, 5 yearlings, 3 young adults, 2 adults, 1 old adult\n",
    "initial_first_year = 10\n",
    "initial_second_year = 5\n",
    "initial_third_year = 3\n",
    "initial_fourth_year = 2\n",
    "initial_fifth_year = 1\n",
    "# Survival rates (S1–S4)\n",
    "S = [0.5, 0.8, 0.85, 0.7]\n",
    "S1, S2, S3, S4 = S\n",
    "years = 30\n",
    "\n",
    "# Fertility rates (F3–F5) – average of 1 pup per mature individual adjusted for survival\n",
    "F3= 1\n",
    "F4= 1\n",
    "F5= 1\n",
    "# Leslie matrix\n",
    "A = np.array([\n",
    "    [0, 0, F3, F4, F5],\n",
    "    [S1, 0, 0, 0, 0],\n",
    "    [0, S2, 0, 0, 0],\n",
    "    [0, 0, S3, 0, 0],\n",
    "    [0, 0, 0, S4, 0],\n",
    "])\n",
    "\n",
    "# Initial population vector: [year 1, year 2, year 3, year 4, year 5]\n",
    "population = np.array([initial_first_year, initial_second_year, initial_third_year, initial_fourth_year, initial_fifth_year])\n",
    "initial_first_year\n",
    "# Lists to store population data over time\n",
    "first_year_population = [population[0]]\n",
    "second_year_population = [population[1]]\n",
    "third_year_population = [population[2]]\n",
    "fourth_year_population = [population[3]]\n",
    "fifth_year_population = [population[4]]\n",
    "total_population = [np.sum(population)]\n",
    "\n",
    "    # Simulate population changes over the specified number of years\n",
    "    for _ in range(years):\n",
    "        population = np.dot(A, population)\n",
    "        first_year_population.append(population[0])\n",
    "        second_year_population.append(population[1])\n",
    "        third_year_population.append(population[2])\n",
    "        fourth_year_population.append(population[3])\n",
    "        fifth_year_population.append(population[4])\n",
    "        total_population.append(np.sum(population))\n",
    "\n",
    "        return first_year_population, second_year_population, third_year_population, fourth_year_population, fifth_year_population, total_population\n",
    "        populations = [Nt]\n",
    "\n",
    "for _ in range(years):\n",
    "    Nt = A @ Nt\n",
    "    populations.append(Nt)\n",
    "return np.array(populations)"
   ]
  },
  {
   "cell_type": "code",
   "execution_count": 20,
   "id": "404b38f6",
   "metadata": {},
   "outputs": [
    {
     "ename": "NameError",
     "evalue": "name 'time_steps' is not defined",
     "output_type": "error",
     "traceback": [
      "\u001b[31m---------------------------------------------------------------------------\u001b[39m",
      "\u001b[31mNameError\u001b[39m                                 Traceback (most recent call last)",
      "\u001b[36mCell\u001b[39m\u001b[36m \u001b[39m\u001b[32mIn[20]\u001b[39m\u001b[32m, line 11\u001b[39m\n\u001b[32m      8\u001b[39m F = [\u001b[32m1\u001b[39m, \u001b[32m1\u001b[39m, \u001b[32m1\u001b[39m]\n\u001b[32m     10\u001b[39m \u001b[38;5;66;03m# Project over 10 years\u001b[39;00m\n\u001b[32m---> \u001b[39m\u001b[32m11\u001b[39m pop = population(Nt0, S, F, \u001b[43mtime_steps\u001b[49m)\n\u001b[32m     13\u001b[39m \u001b[38;5;66;03m# Print population each year\u001b[39;00m\n\u001b[32m     14\u001b[39m \u001b[38;5;28;01mfor\u001b[39;00m year, n \u001b[38;5;129;01min\u001b[39;00m \u001b[38;5;28menumerate\u001b[39m(pop):\n",
      "\u001b[31mNameError\u001b[39m: name 'time_steps' is not defined"
     ]
    }
   ],
   "source": [
    "# Initial population: 10 pups, 5 yearlings, 3 young adults, 2 adults, 1 old adult\n",
    "Nt0 = np.array([10, 5, 3, 2, 1])\n",
    "\n",
    "# Survival rates (S1–S4)\n",
    "S = [0.5, 0.8, 0.85, 0.7]\n",
    "\n",
    "# Fertility rates (F3–F5) – average of 1 pup per mature individual adjusted for survival\n",
    "F = [1, 1, 1]\n",
    "\n",
    "# Project over 10 years\n",
    "pop = population(Nt0, S, F, time_steps)\n",
    "\n",
    "# Print population each year\n",
    "for year, n in enumerate(pop):\n",
    "    print(f\"Year {year}: {n}\")\n"
   ]
  },
  {
   "cell_type": "code",
   "execution_count": null,
   "id": "cb98d474",
   "metadata": {},
   "outputs": [],
   "source": []
  }
 ],
 "metadata": {
  "kernelspec": {
   "display_name": "IC_Assignments",
   "language": "python",
   "name": "python3"
  },
  "language_info": {
   "codemirror_mode": {
    "name": "ipython",
    "version": 3
   },
   "file_extension": ".py",
   "mimetype": "text/x-python",
   "name": "python",
   "nbconvert_exporter": "python",
   "pygments_lexer": "ipython3",
   "version": "3.13.5"
  }
 },
 "nbformat": 4,
 "nbformat_minor": 5
}
