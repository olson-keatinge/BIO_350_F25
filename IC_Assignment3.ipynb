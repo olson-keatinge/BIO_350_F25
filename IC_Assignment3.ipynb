{
 "cells": [
  {
   "cell_type": "markdown",
   "id": "d2013c50",
   "metadata": {},
   "source": [
    "Chapter 4 - Lotka Volterra Competition \n",
    "\n",
    "- Algorithm to calculate 2 separate species to visualise interspecific competition"
   ]
  },
  {
   "cell_type": "code",
   "execution_count": 24,
   "id": "e60e8600",
   "metadata": {},
   "outputs": [
    {
     "name": "stdout",
     "output_type": "stream",
     "text": [
      "Day 0: N = 12, M = 5\n",
      "Day 1: N = 18.8025, M = 6.7493437499999995\n",
      "Day 2: N = 29.120849649462883, M = 8.92924366289948\n",
      "Day 3: N = 44.31078275200486, M = 11.461954567598493\n",
      "Day 4: N = 65.67120862124547, M = 14.082825119029337\n",
      "Day 5: N = 93.71414209807472, M = 16.29260175369022\n",
      "Day 6: N = 127.03249678654127, M = 17.469512210425968\n",
      "Day 7: N = 161.52185941282613, M = 17.212306945894788\n",
      "Day 8: N = 191.47409500090163, M = 15.67278779189555\n",
      "Day 9: N = 212.82714632378537, M = 13.449393483704174\n",
      "Day 10: N = 225.49595106541517, M = 11.134137574358979\n",
      "Day 11: N = 232.10327249890946, M = 9.049637548245126\n",
      "Day 12: N = 235.37263168032462, M = 7.293215091487706\n",
      "Day 13: N = 237.02263180978116, M = 5.855614173253023\n",
      "Day 14: N = 237.91944524418267, M = 4.69351851755215\n",
      "Day 15: N = 238.45903175123112, M = 3.7591280240214835\n",
      "Day 16: N = 238.81742747460999, M = 3.0095841208306515\n",
      "Day 17: N = 239.07426158445867, M = 2.4089715178904387\n",
      "Day 18: N = 239.26761022548737, M = 1.927961014720584\n",
      "Day 19: N = 239.41739146286537, M = 1.5428537820961379\n",
      "Day 20: N = 239.53524173592854, M = 1.234587912170038\n",
      "Day 21: N = 239.62872712252016, M = 0.9878636226821158\n",
      "Day 22: N = 239.70319592608791, M = 0.7904139814292599\n",
      "Day 23: N = 239.76264266538118, M = 0.6324097401193274\n",
      "Day 24: N = 239.81014857580527, M = 0.5059779880204289\n",
      "Day 25: N = 239.8481326611119, M = 0.404814485665059\n",
      "Day 26: N = 239.87851165618514, M = 0.3238721174057088\n",
      "Day 27: N = 239.90281153799847, M = 0.2591108272892361\n",
      "Day 28: N = 239.9222501162274, M = 0.20729706491014224\n",
      "Day 29: N = 239.93780044747007, M = 0.165843028844109\n",
      "Day 30: N = 239.9502404998019, M = 0.13267786379696866\n",
      "Day 31: N = 239.9601924565717, M = 0.10614449285242405\n",
      "Day 32: N = 239.96815398794422, M = 0.08491700332058504\n",
      "Day 33: N = 239.97452319942585, M = 0.06793450437945732\n",
      "Day 34: N = 239.97961856316618, M = 0.054348180575037174\n",
      "Day 35: N = 239.9836948519815, M = 0.043478913769894385\n",
      "Day 36: N = 239.98695588216384, M = 0.03478336736613788\n",
      "Day 37: N = 239.989564705962, M = 0.027826845152922216\n",
      "Day 38: N = 239.99165176486179, M = 0.022261572926634526\n",
      "Day 39: N = 239.9933214119262, M = 0.01780932029497802\n",
      "Day 40: N = 239.9946571295556, M = 0.014247495885779159\n"
     ]
    }
   ],
   "source": [
    "#Run the function with 40 days, N_0=12, M_0=5, t=40, kN=400, kM=1600, sN=1, sM=1, dN=0.4, dM=0.6, Nt=N_0*t, Mt=M_0*t. With Initial populations of N_0=12 and M_0=5\n",
    "# Fix function logic and print results\n",
    "\n",
    "def NandM_population(N_0, M_0, t, kN, kM, sN, sM, dN, dM):\n",
    "    # Interspecific competition growth model\n",
    "    # Save N_values into a list\n",
    "    N_Values = [N_0]\n",
    "    M_Values = [M_0]\n",
    "    # Save initial population\n",
    "    #Set current population size \n",
    "    current_N = N_0\n",
    "    current_M = M_0\n",
    "    for _ in range(t):\n",
    "        current_N = current_N + sN * current_N * (1 - current_N / kN - current_M / kM) - dN * current_N\n",
    "        current_M= current_M + sM * current_M * (1 - current_M / kM - current_N / kN) - dM * current_M\n",
    "        # Round to three decimal places\n",
    "        N_Values.append(current_N)\n",
    "        M_Values.append(current_M)  \n",
    "    return N_Values, M_Values\n",
    "N_Values, M_Values = NandM_population(N_0=12, M_0=5, t=40, kN=400, kM=1600, sN=1, sM=1, dN=0.4, dM=0.6)\n",
    "# Print the results of the equations for each time step\n",
    "for i in range(len(N_Values)):\n",
    "    print(f\"Day {i}: N = {N_Values[i]}, M = {M_Values[i]}\")"
   ]
  },
  {
   "cell_type": "code",
   "execution_count": 27,
   "id": "e21012c3",
   "metadata": {},
   "outputs": [
    {
     "data": {
      "image/png": "[encoded data removed]",
      "text/plain": [
       "<Figure size 640x480 with 1 Axes>"
      ]
     },
     "metadata": {},
     "output_type": "display_data"
    }
   ],
   "source": [
    "#plot the population data with \"Days\" on the x-axis and \"Population\" on the y-axis\n",
    "import matplotlib.pyplot as plt\n",
    "plt.plot(N_Values, label='Species N', color='blue')\n",
    "plt.plot(M_Values, label='Species M', color='gold')\n",
    "plt.xlabel(\"Days\")\n",
    "plt.ylabel(\"Population\")\n",
    "plt.title(\"Population over Time\")\n",
    "plt.xlim(left=0)\n",
    "plt.ylim(bottom=0)\n",
    "plt.legend()\n",
    "plt.grid()\n",
    "plt.show()\n",
    "\n"
   ]
  },
  {
   "cell_type": "code",
   "execution_count": 28,
   "id": "bd35bac0",
   "metadata": {},
   "outputs": [
    {
     "name": "stdout",
     "output_type": "stream",
     "text": [
      "M population drops below 1 on day 21\n"
     ]
    }
   ],
   "source": [
    "# Find the first day when M population drops below 1\n",
    "for day, m in enumerate(M_Values):\n",
    "    if m < 1:\n",
    "        print(f\"M population drops below 1 on day {day}\")\n",
    "        break"
   ]
  },
  {
   "cell_type": "code",
   "execution_count": 40,
   "id": "83ce6f43",
   "metadata": {},
   "outputs": [
    {
     "name": "stdout",
     "output_type": "stream",
     "text": [
      "For coexistence:\n",
      "AlphaMN < kM / kN = 4.0  (currently AlphaMN = 4.0)\n",
      "AlphaNM < kN / kM = 0.25  (currently AlphaNM = 0.25)\n",
      "Coexistence is not possible with current alpha values.\n"
     ]
    }
   ],
   "source": [
    "\n",
    "def NandM_population(N_0, M_0, t, kN, kM, sN, sM, dN, dM):\n",
    "    # Interspecific competition growth model\n",
    "    # Save N_values into a list\n",
    "    N_Values = [N_0]\n",
    "    M_Values = [M_0]\n",
    "    # Save initial population\n",
    "    #Set current population size \n",
    "    current_N = N_0\n",
    "    current_M = M_0\n",
    "    for _ in range(t):\n",
    "        current_N = current_N + sN * current_N * (1 - current_N / kN - current_M / kM) - dN * current_N\n",
    "        current_M= current_M + sM * current_M * (1 - current_M / kM - current_N / kN) - dM * current_M\n",
    "        # Round to three decimal places\n",
    "        N_Values.append(current_N)\n",
    "        M_Values.append(current_M)  \n",
    "    return N_Values, M_Values\n",
    "N_Values, M_Values = NandM_population(N_0=12, M_0=5, t=40, kN=400, kM=1600, sN=1, sM=1, dN=0.4, dM=0.6)\n",
    "\n",
    "# For coexistence in Lotka-Volterra competition, both species must limit themselves more than they limit each other:\n",
    "# AlphaMN < kM / kN and AlphaNM < kN / kM\n",
    "\n",
    "print(\"For coexistence:\")\n",
    "print(f\"AlphaMN < kM / kN = {kM / kN}  (currently AlphaMN = {AlphaMN})\")\n",
    "print(f\"AlphaNM < kN / kM = {kN / kM}  (currently AlphaNM = {AlphaNM})\")\n",
    "\n",
    "if AlphaMN < kM / kN and AlphaNM < kN / kM:\n",
    "    print(\"Both populations can coexist.\")\n",
    "else:\n",
    "    print(\"Coexistence is not possible with current alpha values.\")\n"
   ]
  },
  {
   "cell_type": "markdown",
   "id": "c4a5c42d",
   "metadata": {},
   "source": [
    "Q1 – The graph shows Species N population growing in a logistic model, increasing exponentially then plateauing after about 11 days. However, species M population is outcompeted; the graph shows that Species M population increased slightly in the first few days, but after about 6 days the population decreases to 1.\n",
    "\n",
    "Q2- The M population doesn't reach 0 on the graph because of limitations of the equation - the equation will never reach 0 due to the fact that it considers that every year one seed is produced, even though in reality eventually the population will completely die off. \n",
    "M Population will drop below 1 on Day 21. \n",
    "\n",
    "Q3 - Coexistence is not possible with the current alpha values as both alpha values would need to be below 1 for this possibility. "
   ]
  }
 ],
 "metadata": {
  "kernelspec": {
   "display_name": "IC_Assignments",
   "language": "python",
   "name": "python3"
  },
  "language_info": {
   "codemirror_mode": {
    "name": "ipython",
    "version": 3
   },
   "file_extension": ".py",
   "mimetype": "text/x-python",
   "name": "python",
   "nbconvert_exporter": "python",
   "pygments_lexer": "ipython3",
   "version": "3.13.5"
  }
 },
 "nbformat": 4,
 "nbformat_minor": 5
}
